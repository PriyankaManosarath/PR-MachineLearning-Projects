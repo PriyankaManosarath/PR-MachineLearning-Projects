{
 "cells": [
  {
   "cell_type": "code",
   "execution_count": 1,
   "id": "74786506",
   "metadata": {},
   "outputs": [],
   "source": [
    "import pandas as pd\n"
   ]
  },
  {
   "cell_type": "code",
   "execution_count": 2,
   "id": "0431a563",
   "metadata": {},
   "outputs": [
    {
     "data": {
      "text/plain": [
       "(768, 9)"
      ]
     },
     "execution_count": 2,
     "metadata": {},
     "output_type": "execute_result"
    }
   ],
   "source": [
    "data=pd.read_csv('diabetes.csv')\n",
    "\n",
    "data.shape"
   ]
  },
  {
   "cell_type": "code",
   "execution_count": 3,
   "id": "6269628b",
   "metadata": {},
   "outputs": [
    {
     "data": {
      "text/plain": [
       "Pregnancies                 0\n",
       "Glucose                     0\n",
       "BloodPressure               0\n",
       "SkinThickness               0\n",
       "Insulin                     0\n",
       "BMI                         0\n",
       "DiabetesPedigreeFunction    0\n",
       "Age                         0\n",
       "Outcome                     0\n",
       "dtype: int64"
      ]
     },
     "execution_count": 3,
     "metadata": {},
     "output_type": "execute_result"
    }
   ],
   "source": [
    "\n",
    "data.isnull().sum()\n",
    "#No null data "
   ]
  },
  {
   "cell_type": "code",
   "execution_count": 4,
   "id": "dddbef68",
   "metadata": {},
   "outputs": [
    {
     "data": {
      "text/html": [
       "<div>\n",
       "<style scoped>\n",
       "    .dataframe tbody tr th:only-of-type {\n",
       "        vertical-align: middle;\n",
       "    }\n",
       "\n",
       "    .dataframe tbody tr th {\n",
       "        vertical-align: top;\n",
       "    }\n",
       "\n",
       "    .dataframe thead th {\n",
       "        text-align: right;\n",
       "    }\n",
       "</style>\n",
       "<table border=\"1\" class=\"dataframe\">\n",
       "  <thead>\n",
       "    <tr style=\"text-align: right;\">\n",
       "      <th></th>\n",
       "      <th>Pregnancies</th>\n",
       "      <th>Glucose</th>\n",
       "      <th>BloodPressure</th>\n",
       "      <th>SkinThickness</th>\n",
       "      <th>Insulin</th>\n",
       "      <th>BMI</th>\n",
       "      <th>DiabetesPedigreeFunction</th>\n",
       "      <th>Age</th>\n",
       "      <th>Outcome</th>\n",
       "    </tr>\n",
       "  </thead>\n",
       "  <tbody>\n",
       "    <tr>\n",
       "      <th>0</th>\n",
       "      <td>6</td>\n",
       "      <td>148</td>\n",
       "      <td>72</td>\n",
       "      <td>35</td>\n",
       "      <td>0</td>\n",
       "      <td>33.6</td>\n",
       "      <td>0.627</td>\n",
       "      <td>50</td>\n",
       "      <td>1</td>\n",
       "    </tr>\n",
       "    <tr>\n",
       "      <th>1</th>\n",
       "      <td>1</td>\n",
       "      <td>85</td>\n",
       "      <td>66</td>\n",
       "      <td>29</td>\n",
       "      <td>0</td>\n",
       "      <td>26.6</td>\n",
       "      <td>0.351</td>\n",
       "      <td>31</td>\n",
       "      <td>0</td>\n",
       "    </tr>\n",
       "    <tr>\n",
       "      <th>2</th>\n",
       "      <td>8</td>\n",
       "      <td>183</td>\n",
       "      <td>64</td>\n",
       "      <td>0</td>\n",
       "      <td>0</td>\n",
       "      <td>23.3</td>\n",
       "      <td>0.672</td>\n",
       "      <td>32</td>\n",
       "      <td>1</td>\n",
       "    </tr>\n",
       "    <tr>\n",
       "      <th>3</th>\n",
       "      <td>1</td>\n",
       "      <td>89</td>\n",
       "      <td>66</td>\n",
       "      <td>23</td>\n",
       "      <td>94</td>\n",
       "      <td>28.1</td>\n",
       "      <td>0.167</td>\n",
       "      <td>21</td>\n",
       "      <td>0</td>\n",
       "    </tr>\n",
       "    <tr>\n",
       "      <th>4</th>\n",
       "      <td>0</td>\n",
       "      <td>137</td>\n",
       "      <td>40</td>\n",
       "      <td>35</td>\n",
       "      <td>168</td>\n",
       "      <td>43.1</td>\n",
       "      <td>2.288</td>\n",
       "      <td>33</td>\n",
       "      <td>1</td>\n",
       "    </tr>\n",
       "    <tr>\n",
       "      <th>5</th>\n",
       "      <td>5</td>\n",
       "      <td>116</td>\n",
       "      <td>74</td>\n",
       "      <td>0</td>\n",
       "      <td>0</td>\n",
       "      <td>25.6</td>\n",
       "      <td>0.201</td>\n",
       "      <td>30</td>\n",
       "      <td>0</td>\n",
       "    </tr>\n",
       "    <tr>\n",
       "      <th>6</th>\n",
       "      <td>3</td>\n",
       "      <td>78</td>\n",
       "      <td>50</td>\n",
       "      <td>32</td>\n",
       "      <td>88</td>\n",
       "      <td>31.0</td>\n",
       "      <td>0.248</td>\n",
       "      <td>26</td>\n",
       "      <td>1</td>\n",
       "    </tr>\n",
       "    <tr>\n",
       "      <th>7</th>\n",
       "      <td>10</td>\n",
       "      <td>115</td>\n",
       "      <td>0</td>\n",
       "      <td>0</td>\n",
       "      <td>0</td>\n",
       "      <td>35.3</td>\n",
       "      <td>0.134</td>\n",
       "      <td>29</td>\n",
       "      <td>0</td>\n",
       "    </tr>\n",
       "    <tr>\n",
       "      <th>8</th>\n",
       "      <td>2</td>\n",
       "      <td>197</td>\n",
       "      <td>70</td>\n",
       "      <td>45</td>\n",
       "      <td>543</td>\n",
       "      <td>30.5</td>\n",
       "      <td>0.158</td>\n",
       "      <td>53</td>\n",
       "      <td>1</td>\n",
       "    </tr>\n",
       "    <tr>\n",
       "      <th>9</th>\n",
       "      <td>8</td>\n",
       "      <td>125</td>\n",
       "      <td>96</td>\n",
       "      <td>0</td>\n",
       "      <td>0</td>\n",
       "      <td>0.0</td>\n",
       "      <td>0.232</td>\n",
       "      <td>54</td>\n",
       "      <td>1</td>\n",
       "    </tr>\n",
       "  </tbody>\n",
       "</table>\n",
       "</div>"
      ],
      "text/plain": [
       "   Pregnancies  Glucose  BloodPressure  SkinThickness  Insulin   BMI  \\\n",
       "0            6      148             72             35        0  33.6   \n",
       "1            1       85             66             29        0  26.6   \n",
       "2            8      183             64              0        0  23.3   \n",
       "3            1       89             66             23       94  28.1   \n",
       "4            0      137             40             35      168  43.1   \n",
       "5            5      116             74              0        0  25.6   \n",
       "6            3       78             50             32       88  31.0   \n",
       "7           10      115              0              0        0  35.3   \n",
       "8            2      197             70             45      543  30.5   \n",
       "9            8      125             96              0        0   0.0   \n",
       "\n",
       "   DiabetesPedigreeFunction  Age  Outcome  \n",
       "0                     0.627   50        1  \n",
       "1                     0.351   31        0  \n",
       "2                     0.672   32        1  \n",
       "3                     0.167   21        0  \n",
       "4                     2.288   33        1  \n",
       "5                     0.201   30        0  \n",
       "6                     0.248   26        1  \n",
       "7                     0.134   29        0  \n",
       "8                     0.158   53        1  \n",
       "9                     0.232   54        1  "
      ]
     },
     "execution_count": 4,
     "metadata": {},
     "output_type": "execute_result"
    }
   ],
   "source": [
    "data.head(10)"
   ]
  },
  {
   "cell_type": "markdown",
   "id": "d54fba1d",
   "metadata": {},
   "source": [
    "#### Logistic Regression using StandardScaler"
   ]
  },
  {
   "cell_type": "code",
   "execution_count": 5,
   "id": "f84ec34e",
   "metadata": {},
   "outputs": [
    {
     "data": {
      "text/html": [
       "<div>\n",
       "<style scoped>\n",
       "    .dataframe tbody tr th:only-of-type {\n",
       "        vertical-align: middle;\n",
       "    }\n",
       "\n",
       "    .dataframe tbody tr th {\n",
       "        vertical-align: top;\n",
       "    }\n",
       "\n",
       "    .dataframe thead th {\n",
       "        text-align: right;\n",
       "    }\n",
       "</style>\n",
       "<table border=\"1\" class=\"dataframe\">\n",
       "  <thead>\n",
       "    <tr style=\"text-align: right;\">\n",
       "      <th></th>\n",
       "      <th>Pregnancies</th>\n",
       "      <th>Glucose</th>\n",
       "      <th>BloodPressure</th>\n",
       "      <th>SkinThickness</th>\n",
       "      <th>Insulin</th>\n",
       "      <th>BMI</th>\n",
       "      <th>DiabetesPedigreeFunction</th>\n",
       "      <th>Age</th>\n",
       "    </tr>\n",
       "  </thead>\n",
       "  <tbody>\n",
       "    <tr>\n",
       "      <th>0</th>\n",
       "      <td>0.639947</td>\n",
       "      <td>0.848324</td>\n",
       "      <td>0.149641</td>\n",
       "      <td>0.907270</td>\n",
       "      <td>-0.692891</td>\n",
       "      <td>0.204013</td>\n",
       "      <td>0.468492</td>\n",
       "      <td>1.425995</td>\n",
       "    </tr>\n",
       "    <tr>\n",
       "      <th>1</th>\n",
       "      <td>-0.844885</td>\n",
       "      <td>-1.123396</td>\n",
       "      <td>-0.160546</td>\n",
       "      <td>0.530902</td>\n",
       "      <td>-0.692891</td>\n",
       "      <td>-0.684422</td>\n",
       "      <td>-0.365061</td>\n",
       "      <td>-0.190672</td>\n",
       "    </tr>\n",
       "    <tr>\n",
       "      <th>2</th>\n",
       "      <td>1.233880</td>\n",
       "      <td>1.943724</td>\n",
       "      <td>-0.263941</td>\n",
       "      <td>-1.288212</td>\n",
       "      <td>-0.692891</td>\n",
       "      <td>-1.103255</td>\n",
       "      <td>0.604397</td>\n",
       "      <td>-0.105584</td>\n",
       "    </tr>\n",
       "    <tr>\n",
       "      <th>3</th>\n",
       "      <td>-0.844885</td>\n",
       "      <td>-0.998208</td>\n",
       "      <td>-0.160546</td>\n",
       "      <td>0.154533</td>\n",
       "      <td>0.123302</td>\n",
       "      <td>-0.494043</td>\n",
       "      <td>-0.920763</td>\n",
       "      <td>-1.041549</td>\n",
       "    </tr>\n",
       "    <tr>\n",
       "      <th>4</th>\n",
       "      <td>-1.141852</td>\n",
       "      <td>0.504055</td>\n",
       "      <td>-1.504687</td>\n",
       "      <td>0.907270</td>\n",
       "      <td>0.765836</td>\n",
       "      <td>1.409746</td>\n",
       "      <td>5.484909</td>\n",
       "      <td>-0.020496</td>\n",
       "    </tr>\n",
       "    <tr>\n",
       "      <th>...</th>\n",
       "      <td>...</td>\n",
       "      <td>...</td>\n",
       "      <td>...</td>\n",
       "      <td>...</td>\n",
       "      <td>...</td>\n",
       "      <td>...</td>\n",
       "      <td>...</td>\n",
       "      <td>...</td>\n",
       "    </tr>\n",
       "    <tr>\n",
       "      <th>763</th>\n",
       "      <td>1.827813</td>\n",
       "      <td>-0.622642</td>\n",
       "      <td>0.356432</td>\n",
       "      <td>1.722735</td>\n",
       "      <td>0.870031</td>\n",
       "      <td>0.115169</td>\n",
       "      <td>-0.908682</td>\n",
       "      <td>2.532136</td>\n",
       "    </tr>\n",
       "    <tr>\n",
       "      <th>764</th>\n",
       "      <td>-0.547919</td>\n",
       "      <td>0.034598</td>\n",
       "      <td>0.046245</td>\n",
       "      <td>0.405445</td>\n",
       "      <td>-0.692891</td>\n",
       "      <td>0.610154</td>\n",
       "      <td>-0.398282</td>\n",
       "      <td>-0.531023</td>\n",
       "    </tr>\n",
       "    <tr>\n",
       "      <th>765</th>\n",
       "      <td>0.342981</td>\n",
       "      <td>0.003301</td>\n",
       "      <td>0.149641</td>\n",
       "      <td>0.154533</td>\n",
       "      <td>0.279594</td>\n",
       "      <td>-0.735190</td>\n",
       "      <td>-0.685193</td>\n",
       "      <td>-0.275760</td>\n",
       "    </tr>\n",
       "    <tr>\n",
       "      <th>766</th>\n",
       "      <td>-0.844885</td>\n",
       "      <td>0.159787</td>\n",
       "      <td>-0.470732</td>\n",
       "      <td>-1.288212</td>\n",
       "      <td>-0.692891</td>\n",
       "      <td>-0.240205</td>\n",
       "      <td>-0.371101</td>\n",
       "      <td>1.170732</td>\n",
       "    </tr>\n",
       "    <tr>\n",
       "      <th>767</th>\n",
       "      <td>-0.844885</td>\n",
       "      <td>-0.873019</td>\n",
       "      <td>0.046245</td>\n",
       "      <td>0.656358</td>\n",
       "      <td>-0.692891</td>\n",
       "      <td>-0.202129</td>\n",
       "      <td>-0.473785</td>\n",
       "      <td>-0.871374</td>\n",
       "    </tr>\n",
       "  </tbody>\n",
       "</table>\n",
       "<p>768 rows × 8 columns</p>\n",
       "</div>"
      ],
      "text/plain": [
       "     Pregnancies   Glucose  BloodPressure  SkinThickness   Insulin       BMI  \\\n",
       "0       0.639947  0.848324       0.149641       0.907270 -0.692891  0.204013   \n",
       "1      -0.844885 -1.123396      -0.160546       0.530902 -0.692891 -0.684422   \n",
       "2       1.233880  1.943724      -0.263941      -1.288212 -0.692891 -1.103255   \n",
       "3      -0.844885 -0.998208      -0.160546       0.154533  0.123302 -0.494043   \n",
       "4      -1.141852  0.504055      -1.504687       0.907270  0.765836  1.409746   \n",
       "..           ...       ...            ...            ...       ...       ...   \n",
       "763     1.827813 -0.622642       0.356432       1.722735  0.870031  0.115169   \n",
       "764    -0.547919  0.034598       0.046245       0.405445 -0.692891  0.610154   \n",
       "765     0.342981  0.003301       0.149641       0.154533  0.279594 -0.735190   \n",
       "766    -0.844885  0.159787      -0.470732      -1.288212 -0.692891 -0.240205   \n",
       "767    -0.844885 -0.873019       0.046245       0.656358 -0.692891 -0.202129   \n",
       "\n",
       "     DiabetesPedigreeFunction       Age  \n",
       "0                    0.468492  1.425995  \n",
       "1                   -0.365061 -0.190672  \n",
       "2                    0.604397 -0.105584  \n",
       "3                   -0.920763 -1.041549  \n",
       "4                    5.484909 -0.020496  \n",
       "..                        ...       ...  \n",
       "763                 -0.908682  2.532136  \n",
       "764                 -0.398282 -0.531023  \n",
       "765                 -0.685193 -0.275760  \n",
       "766                 -0.371101  1.170732  \n",
       "767                 -0.473785 -0.871374  \n",
       "\n",
       "[768 rows x 8 columns]"
      ]
     },
     "execution_count": 5,
     "metadata": {},
     "output_type": "execute_result"
    }
   ],
   "source": [
    "from sklearn.preprocessing import StandardScaler\n",
    "Y=data.Outcome\n",
    "X=data.drop(\"Outcome\", axis=1)\n",
    "columns=X.columns\n",
    "scaler=StandardScaler()\n",
    "X_std=scaler.fit_transform(X)\n",
    "X_std=pd.DataFrame(X_std, columns=columns)\n",
    "\n",
    "X_std"
   ]
  },
  {
   "cell_type": "code",
   "execution_count": 6,
   "id": "022cf859",
   "metadata": {},
   "outputs": [],
   "source": [
    "from sklearn.model_selection import train_test_split\n",
    "x_train,x_test,y_train,y_test=train_test_split(X_std,Y,test_size = 0.50, random_state=45)\n",
    "\n"
   ]
  },
  {
   "cell_type": "code",
   "execution_count": 7,
   "id": "39f344da",
   "metadata": {},
   "outputs": [
    {
     "name": "stdout",
     "output_type": "stream",
     "text": [
      "Train Score, Accuracy of Logistic Regression on Test set with Standardized features  : 0.7994791666666666\n",
      "Test  Score, Accuracy of Logistic Regression on Test set with Standardized features  : 0.765625\n"
     ]
    }
   ],
   "source": [
    "from sklearn.linear_model import LogisticRegression\n",
    "\n",
    "LReg=LogisticRegression()\n",
    "\n",
    "LReg.fit(x_train,y_train)\n",
    "\n",
    "y_train_pred=LReg.predict(x_train)\n",
    "print(\"Train Score, Accuracy of Logistic Regression on Test set with Standardized features  :\", LReg.score(x_train,y_train))\n",
    "\n",
    "print(\"Test  Score, Accuracy of Logistic Regression on Test set with Standardized features  :\", LReg.score(x_test,y_test))\n",
    "\n",
    "#lr_std_score=LReg.score(y_train_pred, y_train)\n",
    "\n",
    "\n",
    "#y_pred = lr_std.predict(x_test)\n",
    "#print('Accuracy of logistic regression on test set with standardized features: {:.2f}'.format(lr_std.score(x_test, y_test)))\n"
   ]
  },
  {
   "cell_type": "markdown",
   "id": "396f4152",
   "metadata": {},
   "source": [
    "### Logistic Regression using MinMaxScaler"
   ]
  },
  {
   "cell_type": "code",
   "execution_count": 8,
   "id": "e5696fbc",
   "metadata": {},
   "outputs": [
    {
     "data": {
      "text/plain": [
       "'from sklearn.preprocessing import MinMaxScaler\\nY=data.Outcome\\nX=data.drop(\"Outcome\", axis=1)\\ncolumns=X.columns\\nMMScaler=MinMaxScaler()\\nX_MMS=MMScaler.fit_transform(X)\\nX_MMS=pd.DataFrame(X_MMS, columns=columns)\\n\\nX_MMS\\n\\nfrom sklearn.model_selection import train_test_split\\nx_train,x_test,y_train,y_test=train_test_split(X_MMS,Y,test_size = 0.50, random_state=45)\\n\\nfrom sklearn.linear_model import LogisticRegression\\n\\nLReg=LogisticRegression()\\n\\nLReg.fit(x_train,y_train)\\n\\ny_train_pred=LReg.predict(x_train)\\nprint(\"Train Score, Accuracy of Logistic Regression on Test set with Normalized features  :\", LReg.score(x_train,y_train))\\n\\nprint(\"Test  Score, Accuracy of Logistic Regression on Test set with Normalized features  :\", LReg.score(x_test,y_test)) '"
      ]
     },
     "execution_count": 8,
     "metadata": {},
     "output_type": "execute_result"
    }
   ],
   "source": [
    "\n",
    "'''from sklearn.preprocessing import MinMaxScaler\n",
    "Y=data.Outcome\n",
    "X=data.drop(\"Outcome\", axis=1)\n",
    "columns=X.columns\n",
    "MMScaler=MinMaxScaler()\n",
    "X_MMS=MMScaler.fit_transform(X)\n",
    "X_MMS=pd.DataFrame(X_MMS, columns=columns)\n",
    "\n",
    "X_MMS\n",
    "\n",
    "from sklearn.model_selection import train_test_split\n",
    "x_train,x_test,y_train,y_test=train_test_split(X_MMS,Y,test_size = 0.50, random_state=45)\n",
    "\n",
    "from sklearn.linear_model import LogisticRegression\n",
    "\n",
    "LReg=LogisticRegression()\n",
    "\n",
    "LReg.fit(x_train,y_train)\n",
    "\n",
    "y_train_pred=LReg.predict(x_train)\n",
    "print(\"Train Score, Accuracy of Logistic Regression on Test set with Normalized features  :\", LReg.score(x_train,y_train))\n",
    "\n",
    "print(\"Test  Score, Accuracy of Logistic Regression on Test set with Normalized features  :\", LReg.score(x_test,y_test)) '''\n",
    "\n"
   ]
  },
  {
   "cell_type": "markdown",
   "id": "b3e1a826",
   "metadata": {},
   "source": [
    "### ROC Curve, ROC AUC Curve"
   ]
  },
  {
   "cell_type": "code",
   "execution_count": 11,
   "id": "0cfe88f9",
   "metadata": {},
   "outputs": [],
   "source": [
    "from sklearn.metrics import roc_curve\n",
    "from sklearn.metrics import roc_auc_score"
   ]
  },
  {
   "cell_type": "markdown",
   "id": "3308cc92",
   "metadata": {},
   "source": [
    "### Random Forest Classifier ROC AUC Score"
   ]
  },
  {
   "cell_type": "code",
   "execution_count": 10,
   "id": "a6b8220a",
   "metadata": {},
   "outputs": [
    {
     "name": "stdout",
     "output_type": "stream",
     "text": [
      "ROC AUC Score for train : 1.0\n",
      "ROC AUC Score for test : 0.8035373134328359\n"
     ]
    }
   ],
   "source": [
    "from sklearn.ensemble import RandomForestClassifier\n",
    "rf_model= RandomForestClassifier()\n",
    "rf_model.fit(x_train,y_train)\n",
    "\n",
    "y_train_predict=rf_model.predict_proba(x_train)\n",
    "print('ROC AUC Score for train : {}'.format(roc_auc_score(y_train,y_train_predict[:,1])) )\n",
    "\n",
    "\n",
    "y_test_predict=rf_model.predict_proba(x_test)\n",
    "print('ROC AUC Score for test : {}'.format(roc_auc_score(y_test,y_test_predict[:,1])))\n"
   ]
  },
  {
   "cell_type": "markdown",
   "id": "a3516a73",
   "metadata": {},
   "source": [
    "### Logistic Regression ROC AUC Score"
   ]
  },
  {
   "cell_type": "code",
   "execution_count": 18,
   "id": "ab511522",
   "metadata": {},
   "outputs": [
    {
     "name": "stdout",
     "output_type": "stream",
     "text": [
      "ROC AUC Curve for train: 0.8575820895522388\n",
      "ROC AUC Curve for train: 0.816955223880597\n"
     ]
    }
   ],
   "source": [
    "from sklearn.linear_model import LogisticRegression\n",
    "LReg=LogisticRegression()\n",
    "LReg.fit(x_train,y_train)\n",
    "\n",
    "y_lreg_train_predict=LReg.predict_proba(x_train)\n",
    "print('ROC AUC Curve for train: {}'.format( roc_auc_score(y_train, y_lreg_train_predict[:,1])))\n",
    "\n",
    "y_lreg_test_predict=LReg.predict_proba(x_test)\n",
    "print('ROC AUC Curve for train: {}'.format( roc_auc_score(y_test, y_lreg_test_predict[:,1])))"
   ]
  },
  {
   "cell_type": "markdown",
   "id": "d3d8a231",
   "metadata": {},
   "source": [
    "### Adaboost Classifier"
   ]
  },
  {
   "cell_type": "code",
   "execution_count": 31,
   "id": "a3f9afd7",
   "metadata": {},
   "outputs": [
    {
     "name": "stdout",
     "output_type": "stream",
     "text": [
      "ROC AUC Curve for Adabooster train 0.9602238805970149\n",
      "ROC AUC Curve for Adabooster test 0.7733134328358209\n"
     ]
    }
   ],
   "source": [
    "from sklearn.ensemble import AdaBoostClassifier\n",
    "Ada=AdaBoostClassifier()\n",
    "Ada.fit(x_train,y_train)\n",
    "\n",
    "y_ada_train_predict=Ada.predict_proba(x_train)\n",
    "print('ROC AUC Curve for Adabooster train {}'.format(roc_auc_score(y_train,y_ada_train_predict[:,1])))\n",
    "\n",
    "y_ada_test_predict=Ada.predict_proba(x_test)\n",
    "print('ROC AUC Curve for Adabooster test {}' .format(roc_auc_score(y_test,y_ada_test_predict[:,1])))"
   ]
  },
  {
   "cell_type": "markdown",
   "id": "34026993",
   "metadata": {},
   "source": [
    "### KNN Classifier"
   ]
  },
  {
   "cell_type": "code",
   "execution_count": 38,
   "id": "669b9ac3",
   "metadata": {},
   "outputs": [
    {
     "name": "stdout",
     "output_type": "stream",
     "text": [
      "ROC AUC Curve for KNN train 0.8822238805970148\n",
      "ROC AUC curve for knn test 0.7420149253731343\n"
     ]
    }
   ],
   "source": [
    "from sklearn.neighbors import KNeighborsClassifier\n",
    "knn_classifier=KNeighborsClassifier()\n",
    "knn_classifier.fit(x_train,y_train)\n",
    "\n",
    "y_knn_train_predict=knn_classifier.predict_proba(x_train)\n",
    "print('ROC AUC Curve for KNN train {}' .format(roc_auc_score(y_train,y_knn_train_predict[:,1])))\n",
    "\n",
    "y_knn_test_predict=knn_classifier.predict_proba(x_test)\n",
    "print('ROC AUC curve for knn test {}' .format(roc_auc_score(y_test,y_knn_test_predict[:,1])))"
   ]
  },
  {
   "cell_type": "markdown",
   "id": "54898a6e",
   "metadata": {},
   "source": [
    "# Selecting best threshold for Maximum Accurracy"
   ]
  },
  {
   "cell_type": "code",
   "execution_count": 48,
   "id": "d65beb13",
   "metadata": {},
   "outputs": [
    {
     "name": "stdout",
     "output_type": "stream",
     "text": [
      "Ensemnble Test ROC AUC: 0.8117910447761194\n"
     ]
    }
   ],
   "source": [
    "pred=[]\n",
    "for model in (rf_model,LReg,Ada,knn_classifier):\n",
    "    pred.append(pd.Series(model.predict_proba(x_test)[:,1]))\n",
    "    \n",
    "final_prediction=pd.concat(pred,axis=1).mean(axis=1)\n",
    "print('Ensemnble Test ROC AUC: {}' .format(roc_auc_score(y_test,final_prediction)))"
   ]
  },
  {
   "cell_type": "code",
   "execution_count": 53,
   "id": "7d9b9672",
   "metadata": {},
   "outputs": [
    {
     "data": {
      "text/html": [
       "<div>\n",
       "<style scoped>\n",
       "    .dataframe tbody tr th:only-of-type {\n",
       "        vertical-align: middle;\n",
       "    }\n",
       "\n",
       "    .dataframe tbody tr th {\n",
       "        vertical-align: top;\n",
       "    }\n",
       "\n",
       "    .dataframe thead th {\n",
       "        text-align: right;\n",
       "    }\n",
       "</style>\n",
       "<table border=\"1\" class=\"dataframe\">\n",
       "  <thead>\n",
       "    <tr style=\"text-align: right;\">\n",
       "      <th></th>\n",
       "      <th>0</th>\n",
       "      <th>1</th>\n",
       "      <th>2</th>\n",
       "      <th>3</th>\n",
       "    </tr>\n",
       "  </thead>\n",
       "  <tbody>\n",
       "    <tr>\n",
       "      <th>0</th>\n",
       "      <td>0.43</td>\n",
       "      <td>0.720488</td>\n",
       "      <td>0.488127</td>\n",
       "      <td>0.6</td>\n",
       "    </tr>\n",
       "    <tr>\n",
       "      <th>1</th>\n",
       "      <td>0.04</td>\n",
       "      <td>0.075864</td>\n",
       "      <td>0.478852</td>\n",
       "      <td>0.0</td>\n",
       "    </tr>\n",
       "    <tr>\n",
       "      <th>2</th>\n",
       "      <td>0.58</td>\n",
       "      <td>0.230534</td>\n",
       "      <td>0.502287</td>\n",
       "      <td>0.2</td>\n",
       "    </tr>\n",
       "    <tr>\n",
       "      <th>3</th>\n",
       "      <td>0.52</td>\n",
       "      <td>0.484233</td>\n",
       "      <td>0.500133</td>\n",
       "      <td>0.4</td>\n",
       "    </tr>\n",
       "    <tr>\n",
       "      <th>4</th>\n",
       "      <td>0.16</td>\n",
       "      <td>0.120482</td>\n",
       "      <td>0.480262</td>\n",
       "      <td>0.0</td>\n",
       "    </tr>\n",
       "    <tr>\n",
       "      <th>...</th>\n",
       "      <td>...</td>\n",
       "      <td>...</td>\n",
       "      <td>...</td>\n",
       "      <td>...</td>\n",
       "    </tr>\n",
       "    <tr>\n",
       "      <th>379</th>\n",
       "      <td>0.44</td>\n",
       "      <td>0.384007</td>\n",
       "      <td>0.460032</td>\n",
       "      <td>0.2</td>\n",
       "    </tr>\n",
       "    <tr>\n",
       "      <th>380</th>\n",
       "      <td>0.20</td>\n",
       "      <td>0.229892</td>\n",
       "      <td>0.480792</td>\n",
       "      <td>0.2</td>\n",
       "    </tr>\n",
       "    <tr>\n",
       "      <th>381</th>\n",
       "      <td>0.17</td>\n",
       "      <td>0.152158</td>\n",
       "      <td>0.489824</td>\n",
       "      <td>0.2</td>\n",
       "    </tr>\n",
       "    <tr>\n",
       "      <th>382</th>\n",
       "      <td>0.95</td>\n",
       "      <td>0.958503</td>\n",
       "      <td>0.511549</td>\n",
       "      <td>1.0</td>\n",
       "    </tr>\n",
       "    <tr>\n",
       "      <th>383</th>\n",
       "      <td>0.40</td>\n",
       "      <td>0.186758</td>\n",
       "      <td>0.321489</td>\n",
       "      <td>0.6</td>\n",
       "    </tr>\n",
       "  </tbody>\n",
       "</table>\n",
       "<p>384 rows × 4 columns</p>\n",
       "</div>"
      ],
      "text/plain": [
       "        0         1         2    3\n",
       "0    0.43  0.720488  0.488127  0.6\n",
       "1    0.04  0.075864  0.478852  0.0\n",
       "2    0.58  0.230534  0.502287  0.2\n",
       "3    0.52  0.484233  0.500133  0.4\n",
       "4    0.16  0.120482  0.480262  0.0\n",
       "..    ...       ...       ...  ...\n",
       "379  0.44  0.384007  0.460032  0.2\n",
       "380  0.20  0.229892  0.480792  0.2\n",
       "381  0.17  0.152158  0.489824  0.2\n",
       "382  0.95  0.958503  0.511549  1.0\n",
       "383  0.40  0.186758  0.321489  0.6\n",
       "\n",
       "[384 rows x 4 columns]"
      ]
     },
     "execution_count": 53,
     "metadata": {},
     "output_type": "execute_result"
    }
   ],
   "source": [
    "pd.concat(pred,axis=1)"
   ]
  },
  {
   "cell_type": "code",
   "execution_count": 58,
   "id": "2758691e",
   "metadata": {},
   "outputs": [
    {
     "data": {
      "text/plain": [
       "array([1.85952238, 0.85952238, 0.85501298, 0.81640088, 0.81494028,\n",
       "       0.74505411, 0.74283786, 0.7300967 , 0.7209125 , 0.72057079,\n",
       "       0.71960158, 0.71745029, 0.71692369, 0.71346978, 0.71253825,\n",
       "       0.69345253, 0.68685055, 0.67553701, 0.66962504, 0.66493583,\n",
       "       0.66113597, 0.63681608, 0.63648748, 0.63269019, 0.6223776 ,\n",
       "       0.62005496, 0.61379427, 0.59120401, 0.58943644, 0.58789965,\n",
       "       0.5866079 , 0.57750548, 0.56368764, 0.54719713, 0.54301802,\n",
       "       0.54224169, 0.54112536, 0.52988404, 0.52039446, 0.51795484,\n",
       "       0.51786712, 0.50962317, 0.50826684, 0.50326903, 0.48372412,\n",
       "       0.47933432, 0.4710428 , 0.46129787, 0.45920227, 0.45818428,\n",
       "       0.45503642, 0.45018521, 0.43834234, 0.43303579, 0.42921321,\n",
       "       0.41509248, 0.40894621, 0.40845422, 0.40489732, 0.40184414,\n",
       "       0.39105268, 0.3846968 , 0.38314864, 0.37996735, 0.3787079 ,\n",
       "       0.37820517, 0.3710097 , 0.37005686, 0.35692656, 0.34896716,\n",
       "       0.34836852, 0.34499903, 0.34266825, 0.34063763, 0.33897323,\n",
       "       0.3353982 , 0.33253777, 0.32957971, 0.3183197 , 0.31816579,\n",
       "       0.31755576, 0.31506425, 0.31371163, 0.31325217, 0.30606244,\n",
       "       0.3032982 , 0.28770525, 0.2848555 , 0.27345376, 0.27086805,\n",
       "       0.26724122, 0.26469042, 0.25502784, 0.25128589, 0.24600934,\n",
       "       0.24569972, 0.24399346, 0.24267808, 0.22236278, 0.22230062,\n",
       "       0.20567533, 0.20393775, 0.1954638 , 0.19540084, 0.19018603,\n",
       "       0.18315258, 0.17074498, 0.17004826, 0.16061749, 0.16006229,\n",
       "       0.14802426, 0.14723026, 0.13016078, 0.13015498, 0.09661312,\n",
       "       0.09069932, 0.07705697])"
      ]
     },
     "execution_count": 58,
     "metadata": {},
     "output_type": "execute_result"
    }
   ],
   "source": [
    "\n",
    "fpr,trp,thresholds= roc_curve(y_test,final_prediction)\n",
    "thresholds"
   ]
  }
 ],
 "metadata": {
  "kernelspec": {
   "display_name": "Python 3",
   "language": "python",
   "name": "python3"
  },
  "language_info": {
   "codemirror_mode": {
    "name": "ipython",
    "version": 3
   },
   "file_extension": ".py",
   "mimetype": "text/x-python",
   "name": "python",
   "nbconvert_exporter": "python",
   "pygments_lexer": "ipython3",
   "version": "3.8.8"
  }
 },
 "nbformat": 4,
 "nbformat_minor": 5
}
